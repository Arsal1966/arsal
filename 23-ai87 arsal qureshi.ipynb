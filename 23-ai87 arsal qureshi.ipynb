{
  "nbformat": 4,
  "nbformat_minor": 0,
  "metadata": {
    "colab": {
      "provenance": []
    },
    "kernelspec": {
      "name": "python3",
      "display_name": "Python 3"
    },
    "language_info": {
      "name": "python"
    }
  },
  "cells": [
    {
      "cell_type": "code",
      "execution_count": 1,
      "metadata": {
        "colab": {
          "base_uri": "https://localhost:8080/"
        },
        "id": "1YvxiO-PX5DY",
        "outputId": "ed2ee977-6687-411b-c1c2-f6d670b3a6c9"
      },
      "outputs": [
        {
          "output_type": "stream",
          "name": "stdout",
          "text": [
            "True\n",
            "False\n",
            "False\n"
          ]
        }
      ],
      "source": [
        "def word_pattern(pattern, s):\n",
        "    # Split the string into words\n",
        "    words = s.split()\n",
        "\n",
        "    # If lengths don't match, pattern can't hold\n",
        "    if len(pattern) != len(words):\n",
        "        return False\n",
        "\n",
        "    # Dictionaries to map pattern to words and vice versa\n",
        "    pattern_to_word = {}\n",
        "    word_to_pattern = {}\n",
        "\n",
        "    # Iterate through both the pattern and words\n",
        "    for p, w in zip(pattern, words):\n",
        "        # Check if this pattern character has a mapping\n",
        "        if p in pattern_to_word:\n",
        "            if pattern_to_word[p] != w:  # Mapping mismatch\n",
        "                return False\n",
        "        else:\n",
        "            pattern_to_word[p] = w  # Create a new mapping\n",
        "\n",
        "        # Check if this word has a mapping\n",
        "        if w in word_to_pattern:\n",
        "            if word_to_pattern[w] != p:  # Mapping mismatch\n",
        "                return False\n",
        "        else:\n",
        "            word_to_pattern[w] = p  # Create a new mapping\n",
        "\n",
        "    return True  # Return true if all mappings are consistent\n",
        "\n",
        "# Test cases\n",
        "print(word_pattern(\"abba\", \"dog cat cat dog\"))  # Expected: True\n",
        "print(word_pattern(\"abba\", \"dog cat cat fish\"))  # Expected: False\n",
        "print(word_pattern(\"aaaa\", \"dog cat cat dog\"))  # Expected: False\n"
      ]
    },
    {
      "cell_type": "code",
      "source": [],
      "metadata": {
        "id": "GnIHHCTwX8nK"
      },
      "execution_count": null,
      "outputs": []
    }
  ]
}